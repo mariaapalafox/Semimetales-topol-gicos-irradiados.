{
  "nbformat": 4,
  "nbformat_minor": 0,
  "metadata": {
    "colab": {
      "name": "Hoppings.ipynb",
      "provenance": [],
      "collapsed_sections": []
    },
    "kernelspec": {
      "name": "python3",
      "display_name": "Python 3"
    },
    "language_info": {
      "name": "python"
    }
  },
  "cells": [
    {
      "cell_type": "code",
      "metadata": {
        "id": "2smyL_BS225P"
      },
      "source": [
        "%%capture\n",
        "!pip install pythtb"
      ],
      "execution_count": 1,
      "outputs": []
    },
    {
      "cell_type": "code",
      "metadata": {
        "id": "MM_axaeQ3FXl"
      },
      "source": [
        "from pylab import *\n",
        "from pythtb import *"
      ],
      "execution_count": 2,
      "outputs": []
    },
    {
      "cell_type": "code",
      "metadata": {
        "id": "rLSbMQFt3N_R"
      },
      "source": [
        "#A continuación se presenta la construcción del set de hoppings, \n",
        "#en este caso, para nuestro sistema. Se puede utilizar la construcción\n",
        "#de ejemplo para otro set de hoppings.\n",
        "\n",
        "a,h = 1,3\n",
        "a1  = [a,0,0]\n",
        "a2  = [a/2,sqrt(3)*a/2,0]\n",
        "a3  = [0,0,h]\n",
        "lat = [a1,a2,a3]\n",
        "sitios = [[0,0,0],\n",
        "       [0,0.5,0],\n",
        "       [0.5,0,0]]\n",
        "\n",
        "SOTSM = tb_model(3,3,lat,sitios)\n",
        "\n",
        "# Parámetros\n",
        "ta = -1\n",
        "tb = -2.4\n",
        "tz = -1\n",
        "\n",
        "SOTSM.set_hop(ta, 0,1, [ 0, 0,0]  )\n",
        "SOTSM.set_hop(tb, 0,1, [ 0,-1,0]  )\n",
        "\n",
        "SOTSM.set_hop(ta, 0,2, [ 0, 0,0]  )\n",
        "SOTSM.set_hop(tb, 0,2, [-1, 0,0]  )\n",
        "\n",
        "SOTSM.set_hop(ta, 1,2, [ 0, 0,0]  )\n",
        "SOTSM.set_hop(tb, 1,2, [-1, 1,0]  )\n",
        "\n",
        "SOTSM.set_hop(tz, 0,1, [ 0,-1,-1]  )\n",
        "SOTSM.set_hop(tz, 0,2, [-1, 0,-1]  )\n",
        "SOTSM.set_hop(tz, 1,2, [-1, 1,-1]  )"
      ],
      "execution_count": 3,
      "outputs": []
    }
  ]
}