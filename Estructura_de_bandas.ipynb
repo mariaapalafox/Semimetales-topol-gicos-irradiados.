{
  "nbformat": 4,
  "nbformat_minor": 0,
  "metadata": {
    "colab": {
      "name": "Estructura de bandas.ipynb",
      "provenance": []
    },
    "kernelspec": {
      "name": "python3",
      "display_name": "Python 3"
    },
    "language_info": {
      "name": "python"
    }
  },
  "cells": [
    {
      "cell_type": "code",
      "metadata": {
        "id": "MAIxEIWQ0KIU"
      },
      "source": [
        "%%capture\n",
        "!pip install pythtb --upgrade"
      ],
      "execution_count": 2,
      "outputs": []
    },
    {
      "cell_type": "code",
      "metadata": {
        "id": "EFr1D36Ez2_x"
      },
      "source": [
        "# Cargar librería de pythtb\n",
        "from pythtb import *\n",
        "import numpy as np\n",
        "import matplotlib.pyplot as plt\n",
        "from IPython.display import Image\n",
        "from pylab import *"
      ],
      "execution_count": 3,
      "outputs": []
    },
    {
      "cell_type": "code",
      "metadata": {
        "id": "gJDEimRu26in"
      },
      "source": [
        "#Defino los vectores de red \n",
        "a   = 1\n",
        "h   = 1.0\n",
        "a_1 = [    1*a,              0,  0]\n",
        "a_2 = [(1/2)*a,(np.sqrt(3)/2)*a, 0]\n",
        "a_3 = [      0,               0, h]\n",
        "lat = [a_1,a_2,a_3]\n"
      ],
      "execution_count": 4,
      "outputs": []
    },
    {
      "cell_type": "code",
      "metadata": {
        "id": "auy2tLOF0xrD"
      },
      "source": [
        "#Defino los orbitales (sitios) en terminos de a1 y a2 \n",
        "orb = array( [[0,0,0],[0,1/2,0],[1/2,0,0]] )"
      ],
      "execution_count": 5,
      "outputs": []
    },
    {
      "cell_type": "code",
      "metadata": {
        "id": "jdB-vsv63yZi"
      },
      "source": [
        "Kagome = tb_model(3,3,lat,orb)\n",
        "\n",
        "#Defino los parámetros \n",
        "t_a = -1.0\n",
        "t_b = -2.4\n",
        "t_z = -1\n",
        "\n",
        "# 0 -> A\n",
        "# 1 -> B\n",
        "# 2 -> C\n",
        "#Defino el valor de los hoppings en el plano xy\n",
        "Kagome.set_hop(t_a,0,1,[0,0,0])\n",
        "Kagome.set_hop(t_a,0,2,[0,0,0])\n",
        "Kagome.set_hop(t_a,2,1,[0,0,0])\n",
        "Kagome.set_hop(t_b,1,0,[0,1,0])\n",
        "Kagome.set_hop(t_b,2,0,[1,0,0])\n",
        "Kagome.set_hop(t_b,1,2,[-1,1,0])\n",
        "#Defino el valor de los hopping en el eje z \n",
        "Kagome.set_hop(t_z,2,0,[1,0,-1])\n",
        "Kagome.set_hop(t_z,2,0,[1,0,1])\n",
        "Kagome.set_hop(t_z,1,0,[0,1,-1])\n",
        "Kagome.set_hop(t_z,1,0,[0,1,1])\n",
        "Kagome.set_hop(t_z,1,2,[-1,1,-1])\n",
        "Kagome.set_hop(t_z,1,2,[-1,1,1])"
      ],
      "execution_count": 6,
      "outputs": []
    },
    {
      "cell_type": "code",
      "metadata": {
        "colab": {
          "base_uri": "https://localhost:8080/"
        },
        "id": "6Up3Y8xM33o7",
        "outputId": "fe60d13e-e0e3-4a40-c0f1-1a03aa1ada0e"
      },
      "source": [
        "# Lista de puntos que definen el path \n",
        "path  = [[1/3,2/3,-1/2],[1/3,2/3,1/2]]\n",
        "k_vec, k_dist, k_node = Kagome.k_path(path,201,report=False)\n",
        "\n",
        "# Obtengo los eigenvalores para cada punto (kx,ky,kz) de k_vec\n",
        "evals = Kagome.solve_all(k_vec)\n",
        "\n",
        "print(np.shape(evals))"
      ],
      "execution_count": 7,
      "outputs": [
        {
          "output_type": "stream",
          "name": "stdout",
          "text": [
            "(3, 201)\n"
          ]
        }
      ]
    },
    {
      "cell_type": "code",
      "metadata": {
        "id": "QxjfD7oItfFT"
      },
      "source": [
        ""
      ],
      "execution_count": 7,
      "outputs": []
    },
    {
      "cell_type": "code",
      "metadata": {
        "colab": {
          "base_uri": "https://localhost:8080/",
          "height": 369
        },
        "id": "OzQpr6ym3_bj",
        "outputId": "0457a30c-b346-418a-f9f2-85a8157cc59b"
      },
      "source": [
        "# Figura con la estructura de bandas\n",
        "\n",
        "# Establecemos el nombre de la figura\n",
        "fig, ax = plt.subplots(ncols=1,nrows=1,figsize=(6,5))\n",
        "\n",
        "# Graficamos la banda 0\n",
        "ax.plot(k_dist,evals[0])\n",
        "# Graficamos la banda 1\n",
        "ax.plot(k_dist,evals[1])\n",
        "#Graficamos la banda 2 \n",
        "ax.plot(k_dist,evals[2])\n",
        "# Colocamos los xticks en los puntos del path\n",
        "ax.set_xticks(k_node)\n",
        "\n",
        "# Dibujamos líneas verticales en cada xtick\n",
        "for n in range(len(k_node)):\n",
        "  ax.axvline(x=k_node[n], lw=0.5, color='k')\n",
        "\n",
        "# Colocamos un título a la gráfica\n",
        "ax.set_title(\"Modelo de Kagome\")\n",
        "# Colocamos una etiqueta al eje x\n",
        "ax.set_xlabel(\"k_z\")\n",
        "# Colocamos una etiqueta al eje y\n",
        "ax.set_ylabel(\"Energía\")\n",
        "\n",
        "\n",
        "# Especificamos los límites de graficación en el \n",
        "# eje de las abcisas\n",
        "ax.set_xlim(0,1)\n",
        "\n",
        "# Ajustamos los ejes y etiquetas antes de guardar la figura\n",
        "fig.tight_layout()\n",
        "# Guardamos la figura como un pdf\n",
        "fig.savefig(\"BandasKagome.pdf\")"
      ],
      "execution_count": 8,
      "outputs": [
        {
          "output_type": "display_data",
          "data": {
            "image/png": "[encoded data removed]",
            "text/plain": [
              "<Figure size 432x360 with 1 Axes>"
            ]
          },
          "metadata": {
            "needs_background": "light"
          }
        }
      ]
    },
    {
      "cell_type": "code",
      "metadata": {
        "id": "TCQQ5l-D1KiP",
        "colab": {
          "base_uri": "https://localhost:8080/"
        },
        "outputId": "a93d83a1-a8d5-437a-a5c1-b27c0cccdb6a"
      },
      "source": [
        "# Lista de puntos que definen el path \n",
        "ky = 0\n",
        "path  = [[0,ky,0],[1,ky,0]]\n",
        "# Los puntos en el path corresponden a\n",
        "# [ a,b,c ]\n",
        "# a*b1+b*b2+c*kz\n",
        "\n",
        "k_vec, k_dist, k_node = Kagome.k_path(path,201,report=False)\n",
        "\n",
        "# Obtengo los eigenvalores para cada punto (kx,ky,kz) de k_vec\n",
        "evals,eigvecs = Kagome.solve_all(k_vec,eig_vectors=True)\n",
        "\n",
        "print(np.shape(evals))\n",
        "print(np.shape(eigvecs))"
      ],
      "execution_count": 9,
      "outputs": [
        {
          "output_type": "stream",
          "name": "stdout",
          "text": [
            "(3, 201)\n",
            "(3, 201, 3)\n"
          ]
        }
      ]
    },
    {
      "cell_type": "code",
      "metadata": {
        "id": "lyRuAD9VXk2Z",
        "colab": {
          "base_uri": "https://localhost:8080/",
          "height": 285
        },
        "outputId": "fd774341-c106-4993-f42c-eec7e8ae7ff0"
      },
      "source": [
        "plot(k_dist,evals[0])\n",
        "plot(k_dist,evals[1])\n",
        "plot(k_dist,evals[2])\n",
        "plot(k_dist,evals[-1])\n",
        "plot(k_dist,evals[-2])"
      ],
      "execution_count": 17,
      "outputs": [
        {
          "output_type": "execute_result",
          "data": {
            "text/plain": [
              "[<matplotlib.lines.Line2D at 0x7f41dc7f25d0>]"
            ]
          },
          "metadata": {},
          "execution_count": 17
        },
        {
          "output_type": "display_data",
          "data": {
            "image/png": "[encoded data removed]",
            "text/plain": [
              "<Figure size 432x288 with 1 Axes>"
            ]
          },
          "metadata": {
            "needs_background": "light"
          }
        }
      ]
    }
  ]
}